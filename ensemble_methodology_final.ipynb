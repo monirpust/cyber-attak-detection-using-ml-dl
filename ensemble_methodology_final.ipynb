{
  "nbformat": 4,
  "nbformat_minor": 0,
  "metadata": {
    "colab": {
      "provenance": [],
      "mount_file_id": "12q0zrfQdEEz8J3NaSr3O-fQOOt-f694o",
      "authorship_tag": "ABX9TyO/A6tr3hqXUAeEc4x5v/U6",
      "include_colab_link": true
    },
    "kernelspec": {
      "name": "python3",
      "display_name": "Python 3"
    },
    "language_info": {
      "name": "python"
    }
  },
  "cells": [
    {
      "cell_type": "markdown",
      "metadata": {
        "id": "view-in-github",
        "colab_type": "text"
      },
      "source": [
        "<a href=\"https://colab.research.google.com/github/monirpust/cyber-attak-detection-using-ml-dl/blob/main/ensemble_methodology_final.ipynb\" target=\"_parent\"><img src=\"https://colab.research.google.com/assets/colab-badge.svg\" alt=\"Open In Colab\"/></a>"
      ]
    },
    {
      "cell_type": "markdown",
      "source": [
        "Anomaly detection using ML, DL, and Ensemble Methods for Gas Pipeline dataset "
      ],
      "metadata": {
        "id": "esHuEqiacvd5"
      }
    },
    {
      "cell_type": "markdown",
      "source": [
        "# Importing necessary libraries"
      ],
      "metadata": {
        "id": "Og1V5mejuw01"
      }
    },
    {
      "cell_type": "code",
      "source": [
        "import numpy as np \n",
        "import pandas as pd\n",
        "import seaborn as sn\n",
        "import matplotlib.pyplot as plt\n",
        "from sklearn.metrics import confusion_matrix, accuracy_score, classification_report\n",
        "\n",
        "from sklearn.ensemble import IsolationForest\n",
        "from sklearn.model_selection import train_test_split\n",
        "\n"
      ],
      "metadata": {
        "id": "uqtqzrx1cylQ"
      },
      "execution_count": null,
      "outputs": []
    },
    {
      "cell_type": "markdown",
      "source": [
        "# Importing Dataset"
      ],
      "metadata": {
        "id": "T5Y1SpUOQm5J"
      }
    },
    {
      "cell_type": "code",
      "source": [
        "names = ['address','function', 'length', 'setpoint', 'gain', 'reset rate', 'deadband', 'cycle time', 'rate', 'system mode', 'control scheme', 'pump', 'solenoid','pressure measurement','crc rate','command response','time','binary result','categorized result','specific result' ]\n",
        "df = pd.read_csv('/content/drive/MyDrive/dataset/Stage1Test.csv',names=names,na_values='?',index_col=None);\n",
        "#df = data.dropna();"
      ],
      "metadata": {
        "colab": {
          "base_uri": "https://localhost:8080/"
        },
        "id": "ZXBZ7uX0QwhQ",
        "outputId": "da5aea05-206b-476e-de0e-ecd65d268a10"
      },
      "execution_count": null,
      "outputs": [
        {
          "output_type": "stream",
          "name": "stderr",
          "text": [
            "/usr/local/lib/python3.8/dist-packages/IPython/core/interactiveshell.py:3326: DtypeWarning: Columns (0,1,2,3,4,5,6,7,8,9,10,11,12,14,15,16,17) have mixed types.Specify dtype option on import or set low_memory=False.\n",
            "  exec(code_obj, self.user_global_ns, self.user_ns)\n"
          ]
        }
      ]
    },
    {
      "cell_type": "code",
      "source": [
        "df.describe()\n",
        "df.head()"
      ],
      "metadata": {
        "id": "DqN3CD8Gv8sc",
        "colab": {
          "base_uri": "https://localhost:8080/",
          "height": 305
        },
        "outputId": "480aa09b-21d6-4e3f-b2c8-9c429d250365"
      },
      "execution_count": null,
      "outputs": [
        {
          "output_type": "execute_result",
          "data": {
            "text/plain": [
              "   address  function  length   setpoint        gain    reset rate  deadband  \\\n",
              "0  address  function  length   setpoint        gain  'reset rate'  deadband   \n",
              "1        4         3      16  10.535523  112.986771      0.305917   0.48863   \n",
              "2        4         3      16  10.535523  112.986771      0.305917   0.48863   \n",
              "3        4        16      16  10.535523  112.986771      0.305917   0.48863   \n",
              "4        4         3      46  10.535523  112.986771      0.305917   0.48863   \n",
              "\n",
              "     cycle time      rate    system mode    control scheme      pump  \\\n",
              "0  'cycle time'      rate  'system mode'  'control scheme'      pump   \n",
              "1      1.050153  0.012535       0.491108          0.657535  0.318222   \n",
              "2      1.050153  0.012535       0.491108          0.657535  0.318222   \n",
              "3      1.050153  0.012535       0.491108          0.657535  0.318222   \n",
              "4      1.050153  0.012535       0.491108          0.657535  0.318222   \n",
              "\n",
              "   solenoid                  pressure measurement    crc rate  \\\n",
              "0  solenoid                'pressure measurement'  'crc rate'   \n",
              "1  0.461201  727227219777317100000000000000000000       12869   \n",
              "2  0.461201  727227219777317100000000000000000000       12869   \n",
              "3  0.461201  727227219777317100000000000000000000       17718   \n",
              "4  0.461201                              0.574713       13360   \n",
              "\n",
              "     command response               time    binary result  categorized result  \\\n",
              "0  'command response'               time  'binary result'                 NaN   \n",
              "1                   1  1418682163.170388                0                 NaN   \n",
              "2                   1  1418810954.338649                0                 NaN   \n",
              "3                   0  1418828890.946774                0                 NaN   \n",
              "4                   0  1418787429.349601                0                 NaN   \n",
              "\n",
              "   specific result  \n",
              "0              NaN  \n",
              "1              NaN  \n",
              "2              NaN  \n",
              "3              NaN  \n",
              "4              NaN  "
            ],
            "text/html": [
              "\n",
              "  <div id=\"df-4cd978ed-76e3-4dbd-a9f8-93e80f0e55ef\">\n",
              "    <div class=\"colab-df-container\">\n",
              "      <div>\n",
              "<style scoped>\n",
              "    .dataframe tbody tr th:only-of-type {\n",
              "        vertical-align: middle;\n",
              "    }\n",
              "\n",
              "    .dataframe tbody tr th {\n",
              "        vertical-align: top;\n",
              "    }\n",
              "\n",
              "    .dataframe thead th {\n",
              "        text-align: right;\n",
              "    }\n",
              "</style>\n",
              "<table border=\"1\" class=\"dataframe\">\n",
              "  <thead>\n",
              "    <tr style=\"text-align: right;\">\n",
              "      <th></th>\n",
              "      <th>address</th>\n",
              "      <th>function</th>\n",
              "      <th>length</th>\n",
              "      <th>setpoint</th>\n",
              "      <th>gain</th>\n",
              "      <th>reset rate</th>\n",
              "      <th>deadband</th>\n",
              "      <th>cycle time</th>\n",
              "      <th>rate</th>\n",
              "      <th>system mode</th>\n",
              "      <th>control scheme</th>\n",
              "      <th>pump</th>\n",
              "      <th>solenoid</th>\n",
              "      <th>pressure measurement</th>\n",
              "      <th>crc rate</th>\n",
              "      <th>command response</th>\n",
              "      <th>time</th>\n",
              "      <th>binary result</th>\n",
              "      <th>categorized result</th>\n",
              "      <th>specific result</th>\n",
              "    </tr>\n",
              "  </thead>\n",
              "  <tbody>\n",
              "    <tr>\n",
              "      <th>0</th>\n",
              "      <td>address</td>\n",
              "      <td>function</td>\n",
              "      <td>length</td>\n",
              "      <td>setpoint</td>\n",
              "      <td>gain</td>\n",
              "      <td>'reset rate'</td>\n",
              "      <td>deadband</td>\n",
              "      <td>'cycle time'</td>\n",
              "      <td>rate</td>\n",
              "      <td>'system mode'</td>\n",
              "      <td>'control scheme'</td>\n",
              "      <td>pump</td>\n",
              "      <td>solenoid</td>\n",
              "      <td>'pressure measurement'</td>\n",
              "      <td>'crc rate'</td>\n",
              "      <td>'command response'</td>\n",
              "      <td>time</td>\n",
              "      <td>'binary result'</td>\n",
              "      <td>NaN</td>\n",
              "      <td>NaN</td>\n",
              "    </tr>\n",
              "    <tr>\n",
              "      <th>1</th>\n",
              "      <td>4</td>\n",
              "      <td>3</td>\n",
              "      <td>16</td>\n",
              "      <td>10.535523</td>\n",
              "      <td>112.986771</td>\n",
              "      <td>0.305917</td>\n",
              "      <td>0.48863</td>\n",
              "      <td>1.050153</td>\n",
              "      <td>0.012535</td>\n",
              "      <td>0.491108</td>\n",
              "      <td>0.657535</td>\n",
              "      <td>0.318222</td>\n",
              "      <td>0.461201</td>\n",
              "      <td>727227219777317100000000000000000000</td>\n",
              "      <td>12869</td>\n",
              "      <td>1</td>\n",
              "      <td>1418682163.170388</td>\n",
              "      <td>0</td>\n",
              "      <td>NaN</td>\n",
              "      <td>NaN</td>\n",
              "    </tr>\n",
              "    <tr>\n",
              "      <th>2</th>\n",
              "      <td>4</td>\n",
              "      <td>3</td>\n",
              "      <td>16</td>\n",
              "      <td>10.535523</td>\n",
              "      <td>112.986771</td>\n",
              "      <td>0.305917</td>\n",
              "      <td>0.48863</td>\n",
              "      <td>1.050153</td>\n",
              "      <td>0.012535</td>\n",
              "      <td>0.491108</td>\n",
              "      <td>0.657535</td>\n",
              "      <td>0.318222</td>\n",
              "      <td>0.461201</td>\n",
              "      <td>727227219777317100000000000000000000</td>\n",
              "      <td>12869</td>\n",
              "      <td>1</td>\n",
              "      <td>1418810954.338649</td>\n",
              "      <td>0</td>\n",
              "      <td>NaN</td>\n",
              "      <td>NaN</td>\n",
              "    </tr>\n",
              "    <tr>\n",
              "      <th>3</th>\n",
              "      <td>4</td>\n",
              "      <td>16</td>\n",
              "      <td>16</td>\n",
              "      <td>10.535523</td>\n",
              "      <td>112.986771</td>\n",
              "      <td>0.305917</td>\n",
              "      <td>0.48863</td>\n",
              "      <td>1.050153</td>\n",
              "      <td>0.012535</td>\n",
              "      <td>0.491108</td>\n",
              "      <td>0.657535</td>\n",
              "      <td>0.318222</td>\n",
              "      <td>0.461201</td>\n",
              "      <td>727227219777317100000000000000000000</td>\n",
              "      <td>17718</td>\n",
              "      <td>0</td>\n",
              "      <td>1418828890.946774</td>\n",
              "      <td>0</td>\n",
              "      <td>NaN</td>\n",
              "      <td>NaN</td>\n",
              "    </tr>\n",
              "    <tr>\n",
              "      <th>4</th>\n",
              "      <td>4</td>\n",
              "      <td>3</td>\n",
              "      <td>46</td>\n",
              "      <td>10.535523</td>\n",
              "      <td>112.986771</td>\n",
              "      <td>0.305917</td>\n",
              "      <td>0.48863</td>\n",
              "      <td>1.050153</td>\n",
              "      <td>0.012535</td>\n",
              "      <td>0.491108</td>\n",
              "      <td>0.657535</td>\n",
              "      <td>0.318222</td>\n",
              "      <td>0.461201</td>\n",
              "      <td>0.574713</td>\n",
              "      <td>13360</td>\n",
              "      <td>0</td>\n",
              "      <td>1418787429.349601</td>\n",
              "      <td>0</td>\n",
              "      <td>NaN</td>\n",
              "      <td>NaN</td>\n",
              "    </tr>\n",
              "  </tbody>\n",
              "</table>\n",
              "</div>\n",
              "      <button class=\"colab-df-convert\" onclick=\"convertToInteractive('df-4cd978ed-76e3-4dbd-a9f8-93e80f0e55ef')\"\n",
              "              title=\"Convert this dataframe to an interactive table.\"\n",
              "              style=\"display:none;\">\n",
              "        \n",
              "  <svg xmlns=\"http://www.w3.org/2000/svg\" height=\"24px\"viewBox=\"0 0 24 24\"\n",
              "       width=\"24px\">\n",
              "    <path d=\"M0 0h24v24H0V0z\" fill=\"none\"/>\n",
              "    <path d=\"M18.56 5.44l.94 2.06.94-2.06 2.06-.94-2.06-.94-.94-2.06-.94 2.06-2.06.94zm-11 1L8.5 8.5l.94-2.06 2.06-.94-2.06-.94L8.5 2.5l-.94 2.06-2.06.94zm10 10l.94 2.06.94-2.06 2.06-.94-2.06-.94-.94-2.06-.94 2.06-2.06.94z\"/><path d=\"M17.41 7.96l-1.37-1.37c-.4-.4-.92-.59-1.43-.59-.52 0-1.04.2-1.43.59L10.3 9.45l-7.72 7.72c-.78.78-.78 2.05 0 2.83L4 21.41c.39.39.9.59 1.41.59.51 0 1.02-.2 1.41-.59l7.78-7.78 2.81-2.81c.8-.78.8-2.07 0-2.86zM5.41 20L4 18.59l7.72-7.72 1.47 1.35L5.41 20z\"/>\n",
              "  </svg>\n",
              "      </button>\n",
              "      \n",
              "  <style>\n",
              "    .colab-df-container {\n",
              "      display:flex;\n",
              "      flex-wrap:wrap;\n",
              "      gap: 12px;\n",
              "    }\n",
              "\n",
              "    .colab-df-convert {\n",
              "      background-color: #E8F0FE;\n",
              "      border: none;\n",
              "      border-radius: 50%;\n",
              "      cursor: pointer;\n",
              "      display: none;\n",
              "      fill: #1967D2;\n",
              "      height: 32px;\n",
              "      padding: 0 0 0 0;\n",
              "      width: 32px;\n",
              "    }\n",
              "\n",
              "    .colab-df-convert:hover {\n",
              "      background-color: #E2EBFA;\n",
              "      box-shadow: 0px 1px 2px rgba(60, 64, 67, 0.3), 0px 1px 3px 1px rgba(60, 64, 67, 0.15);\n",
              "      fill: #174EA6;\n",
              "    }\n",
              "\n",
              "    [theme=dark] .colab-df-convert {\n",
              "      background-color: #3B4455;\n",
              "      fill: #D2E3FC;\n",
              "    }\n",
              "\n",
              "    [theme=dark] .colab-df-convert:hover {\n",
              "      background-color: #434B5C;\n",
              "      box-shadow: 0px 1px 3px 1px rgba(0, 0, 0, 0.15);\n",
              "      filter: drop-shadow(0px 1px 2px rgba(0, 0, 0, 0.3));\n",
              "      fill: #FFFFFF;\n",
              "    }\n",
              "  </style>\n",
              "\n",
              "      <script>\n",
              "        const buttonEl =\n",
              "          document.querySelector('#df-4cd978ed-76e3-4dbd-a9f8-93e80f0e55ef button.colab-df-convert');\n",
              "        buttonEl.style.display =\n",
              "          google.colab.kernel.accessAllowed ? 'block' : 'none';\n",
              "\n",
              "        async function convertToInteractive(key) {\n",
              "          const element = document.querySelector('#df-4cd978ed-76e3-4dbd-a9f8-93e80f0e55ef');\n",
              "          const dataTable =\n",
              "            await google.colab.kernel.invokeFunction('convertToInteractive',\n",
              "                                                     [key], {});\n",
              "          if (!dataTable) return;\n",
              "\n",
              "          const docLinkHtml = 'Like what you see? Visit the ' +\n",
              "            '<a target=\"_blank\" href=https://colab.research.google.com/notebooks/data_table.ipynb>data table notebook</a>'\n",
              "            + ' to learn more about interactive tables.';\n",
              "          element.innerHTML = '';\n",
              "          dataTable['output_type'] = 'display_data';\n",
              "          await google.colab.output.renderOutput(dataTable, element);\n",
              "          const docLink = document.createElement('div');\n",
              "          docLink.innerHTML = docLinkHtml;\n",
              "          element.appendChild(docLink);\n",
              "        }\n",
              "      </script>\n",
              "    </div>\n",
              "  </div>\n",
              "  "
            ]
          },
          "metadata": {},
          "execution_count": 4
        }
      ]
    },
    {
      "cell_type": "markdown",
      "source": [
        "# Data Manipulation"
      ],
      "metadata": {
        "id": "AfaAfh6tW-dQ"
      }
    },
    {
      "cell_type": "code",
      "source": [
        "df1=df.sort_values(by=['command response'])\n",
        "cr_col=np.array(df1['command response'])\n",
        "indices=np.where(cr_col==1)\n",
        "splitter=indices[0][0]\n",
        "\n",
        "df_res,df_com=df1.head(splitter),df1.tail(len(df1)-splitter)\n",
        "#print (df_res.head(6))\n",
        "#print (splitter)\n",
        "df_temp=df_com[['address','function', 'length', 'setpoint', 'gain', 'reset rate', 'deadband', 'cycle time', 'rate', 'system mode', 'control scheme', 'pump', 'solenoid','crc rate','binary result','categorized result']].dropna()\n",
        "\n",
        "df_temp1=df_temp[['address','function', 'length', 'setpoint', 'gain', 'reset rate', 'deadband', 'cycle time', 'rate', 'system mode', 'control scheme', 'pump', 'solenoid','crc rate']]\n",
        "df_temp2=df_temp[['binary result','categorized result']]\n",
        "input_com=np.array(df_temp1)\n",
        "output_com=np.array(df_temp2)\n",
        "\n",
        "\n",
        "df_temp=df_res[['address','function', 'length', 'pressure measurement','crc rate','binary result','categorized result']].dropna(axis=0, how='any')\n",
        "#df_temp=df_temp.dropna(axis=0, how='any')\n",
        "\n",
        "df_temp1=df_temp[['address','function', 'length', 'pressure measurement','crc rate']]\n",
        "df_temp2=df_temp[['binary result','categorized result']]\n",
        "input_res=np.array(df_temp1)\n",
        "output_res=np.array(df_temp2)\n",
        "\n",
        "#print (df_temp)\n",
        "print (input_com.shape, output_com.shape, input_res.shape, output_res.shape)\n",
        "#df_temp.isnull()\n",
        "\n",
        "#input1=np.array(input)\n",
        "#output=df[['binary result','categorized result']]\n",
        "#print (input)"
      ],
      "metadata": {
        "id": "a2_3WqFEXB1g"
      },
      "execution_count": null,
      "outputs": []
    },
    {
      "cell_type": "markdown",
      "source": [
        "#Dividing Dataset"
      ],
      "metadata": {
        "id": "w0GGqAw4XHp4"
      }
    },
    {
      "cell_type": "code",
      "source": [
        "## Dividing the dataset for command type packets\n",
        "\n",
        "ntr1 = int(input_com.shape[0]/2)\n",
        "nts1 = input_com.shape[0]-ntr1\n",
        "Xtr1 = input_com[:ntr1,:]\n",
        "ytr1 = output_com[:ntr1,1]\n",
        "Xts1 = input_com[:nts1,:]\n",
        "yts1 = output_com[:nts1,1]\n",
        "print (Xtr1.shape,ytr1.shape)\n",
        "\n",
        "#Trying logistic regression\n",
        "logreg = linear_model.LogisticRegression()\n",
        "logreg.fit(Xtr1,ytr1)\n",
        "yhat = logreg.predict(Xts1)\n",
        "acc = np.mean(yhat == yts1)\n",
        "#print (input_com[0]==input_com[32051])\n",
        "print(\"Accuracy on training data =\", acc)\n",
        "Cs=np.logspace(5,10,5)\n",
        "acc_list=[]\n",
        "for C_element in Cs:\n",
        "    #print (C_element)\n",
        "    logreg = linear_model.LogisticRegression(C=C_element)\n",
        "    logreg.fit(Xtr1,ytr1)\n",
        "    yhat = logreg.predict(Xts1)\n",
        "    acc_list.append(np.mean(yhat == yts1))\n",
        "print (acc_list)\n",
        "plt.plot(Cs,acc_list)\n",
        "plt.xlabel('C')\n",
        "plt.ylabel('Accuracy')\n",
        "plt.show()"
      ],
      "metadata": {
        "id": "u6UnyT33XMLD"
      },
      "execution_count": null,
      "outputs": []
    },
    {
      "cell_type": "code",
      "source": [
        "#split the data into training and test sets\n",
        "X_train, X_test, y_train, y_test = train_test_split(data, data['binary result'], test_size = 0.2, random_state=0)\n",
        "\n",
        "# Fit the Isolation Forest model on the training data\n",
        "model = IsolationForest(random_state=0)\n",
        "model.fit(X_train)\n",
        "\n",
        "# Use the model to predict on the test data\n",
        "y_pred = model.predict(X_test)\n",
        "\n",
        "# Check the accuracy of the model on the test data\n",
        "print(\"Accuracy:\", np.mean(y_pred == y_test))\n",
        "\n",
        "names = ['address','function', 'length', 'setpoint', 'gain', 'reset rate', 'deadband', 'cycle time', 'rate', 'system mode', 'control scheme', 'pump', 'solenoid','pressure measurement','crc rate','command response','time','binary result','categorized result','specific result' ]\n",
        "df = pd.read_csv('C:/Users/userlocal/Desktop/PhD/Courses/Machine_Learning/IntrusionDetection/Datasets/gas_pipeline.csv',names=names,na_values='?',index_col=None)\n",
        "#df = df.dropna()\n",
        "#data=np.array(df)\n",
        "\n",
        "\n",
        "print (df.head(6))\n"
      ],
      "metadata": {
        "colab": {
          "base_uri": "https://localhost:8080/",
          "height": 390
        },
        "id": "F7RJ7sNsMcVt",
        "outputId": "d84d272e-c913-4dec-8233-3a56256db8c8"
      },
      "execution_count": null,
      "outputs": [
        {
          "output_type": "error",
          "ename": "ValueError",
          "evalue": "ignored",
          "traceback": [
            "\u001b[0;31m---------------------------------------------------------------------------\u001b[0m",
            "\u001b[0;31mValueError\u001b[0m                                Traceback (most recent call last)",
            "\u001b[0;32m<ipython-input-14-0455961c365c>\u001b[0m in \u001b[0;36m<module>\u001b[0;34m\u001b[0m\n\u001b[1;32m      4\u001b[0m \u001b[0;31m# Fit the Isolation Forest model on the training data\u001b[0m\u001b[0;34m\u001b[0m\u001b[0;34m\u001b[0m\u001b[0;34m\u001b[0m\u001b[0m\n\u001b[1;32m      5\u001b[0m \u001b[0mmodel\u001b[0m \u001b[0;34m=\u001b[0m \u001b[0mIsolationForest\u001b[0m\u001b[0;34m(\u001b[0m\u001b[0mrandom_state\u001b[0m\u001b[0;34m=\u001b[0m\u001b[0;36m0\u001b[0m\u001b[0;34m)\u001b[0m\u001b[0;34m\u001b[0m\u001b[0;34m\u001b[0m\u001b[0m\n\u001b[0;32m----> 6\u001b[0;31m \u001b[0mmodel\u001b[0m\u001b[0;34m.\u001b[0m\u001b[0mfit\u001b[0m\u001b[0;34m(\u001b[0m\u001b[0mX_train\u001b[0m\u001b[0;34m)\u001b[0m\u001b[0;34m\u001b[0m\u001b[0;34m\u001b[0m\u001b[0m\n\u001b[0m\u001b[1;32m      7\u001b[0m \u001b[0;34m\u001b[0m\u001b[0m\n\u001b[1;32m      8\u001b[0m \u001b[0;31m# Use the model to predict on the test data\u001b[0m\u001b[0;34m\u001b[0m\u001b[0;34m\u001b[0m\u001b[0;34m\u001b[0m\u001b[0m\n",
            "\u001b[0;32m/usr/local/lib/python3.8/dist-packages/sklearn/ensemble/_iforest.py\u001b[0m in \u001b[0;36mfit\u001b[0;34m(self, X, y, sample_weight)\u001b[0m\n\u001b[1;32m    256\u001b[0m             \u001b[0mFitted\u001b[0m \u001b[0mestimator\u001b[0m\u001b[0;34m.\u001b[0m\u001b[0;34m\u001b[0m\u001b[0;34m\u001b[0m\u001b[0m\n\u001b[1;32m    257\u001b[0m         \"\"\"\n\u001b[0;32m--> 258\u001b[0;31m         \u001b[0mX\u001b[0m \u001b[0;34m=\u001b[0m \u001b[0mself\u001b[0m\u001b[0;34m.\u001b[0m\u001b[0m_validate_data\u001b[0m\u001b[0;34m(\u001b[0m\u001b[0mX\u001b[0m\u001b[0;34m,\u001b[0m \u001b[0maccept_sparse\u001b[0m\u001b[0;34m=\u001b[0m\u001b[0;34m[\u001b[0m\u001b[0;34m\"csc\"\u001b[0m\u001b[0;34m]\u001b[0m\u001b[0;34m)\u001b[0m\u001b[0;34m\u001b[0m\u001b[0;34m\u001b[0m\u001b[0m\n\u001b[0m\u001b[1;32m    259\u001b[0m         \u001b[0;32mif\u001b[0m \u001b[0missparse\u001b[0m\u001b[0;34m(\u001b[0m\u001b[0mX\u001b[0m\u001b[0;34m)\u001b[0m\u001b[0;34m:\u001b[0m\u001b[0;34m\u001b[0m\u001b[0;34m\u001b[0m\u001b[0m\n\u001b[1;32m    260\u001b[0m             \u001b[0;31m# Pre-sort indices to avoid that each individual tree of the\u001b[0m\u001b[0;34m\u001b[0m\u001b[0;34m\u001b[0m\u001b[0;34m\u001b[0m\u001b[0m\n",
            "\u001b[0;32m/usr/local/lib/python3.8/dist-packages/sklearn/base.py\u001b[0m in \u001b[0;36m_validate_data\u001b[0;34m(self, X, y, reset, validate_separately, **check_params)\u001b[0m\n\u001b[1;32m    564\u001b[0m             \u001b[0;32mraise\u001b[0m \u001b[0mValueError\u001b[0m\u001b[0;34m(\u001b[0m\u001b[0;34m\"Validation should be done on X, y or both.\"\u001b[0m\u001b[0;34m)\u001b[0m\u001b[0;34m\u001b[0m\u001b[0;34m\u001b[0m\u001b[0m\n\u001b[1;32m    565\u001b[0m         \u001b[0;32melif\u001b[0m \u001b[0;32mnot\u001b[0m \u001b[0mno_val_X\u001b[0m \u001b[0;32mand\u001b[0m \u001b[0mno_val_y\u001b[0m\u001b[0;34m:\u001b[0m\u001b[0;34m\u001b[0m\u001b[0;34m\u001b[0m\u001b[0m\n\u001b[0;32m--> 566\u001b[0;31m             \u001b[0mX\u001b[0m \u001b[0;34m=\u001b[0m \u001b[0mcheck_array\u001b[0m\u001b[0;34m(\u001b[0m\u001b[0mX\u001b[0m\u001b[0;34m,\u001b[0m \u001b[0;34m**\u001b[0m\u001b[0mcheck_params\u001b[0m\u001b[0;34m)\u001b[0m\u001b[0;34m\u001b[0m\u001b[0;34m\u001b[0m\u001b[0m\n\u001b[0m\u001b[1;32m    567\u001b[0m             \u001b[0mout\u001b[0m \u001b[0;34m=\u001b[0m \u001b[0mX\u001b[0m\u001b[0;34m\u001b[0m\u001b[0;34m\u001b[0m\u001b[0m\n\u001b[1;32m    568\u001b[0m         \u001b[0;32melif\u001b[0m \u001b[0mno_val_X\u001b[0m \u001b[0;32mand\u001b[0m \u001b[0;32mnot\u001b[0m \u001b[0mno_val_y\u001b[0m\u001b[0;34m:\u001b[0m\u001b[0;34m\u001b[0m\u001b[0;34m\u001b[0m\u001b[0m\n",
            "\u001b[0;32m/usr/local/lib/python3.8/dist-packages/sklearn/utils/validation.py\u001b[0m in \u001b[0;36mcheck_array\u001b[0;34m(array, accept_sparse, accept_large_sparse, dtype, order, copy, force_all_finite, ensure_2d, allow_nd, ensure_min_samples, ensure_min_features, estimator)\u001b[0m\n\u001b[1;32m    744\u001b[0m                     \u001b[0marray\u001b[0m \u001b[0;34m=\u001b[0m \u001b[0marray\u001b[0m\u001b[0;34m.\u001b[0m\u001b[0mastype\u001b[0m\u001b[0;34m(\u001b[0m\u001b[0mdtype\u001b[0m\u001b[0;34m,\u001b[0m \u001b[0mcasting\u001b[0m\u001b[0;34m=\u001b[0m\u001b[0;34m\"unsafe\"\u001b[0m\u001b[0;34m,\u001b[0m \u001b[0mcopy\u001b[0m\u001b[0;34m=\u001b[0m\u001b[0;32mFalse\u001b[0m\u001b[0;34m)\u001b[0m\u001b[0;34m\u001b[0m\u001b[0;34m\u001b[0m\u001b[0m\n\u001b[1;32m    745\u001b[0m                 \u001b[0;32melse\u001b[0m\u001b[0;34m:\u001b[0m\u001b[0;34m\u001b[0m\u001b[0;34m\u001b[0m\u001b[0m\n\u001b[0;32m--> 746\u001b[0;31m                     \u001b[0marray\u001b[0m \u001b[0;34m=\u001b[0m \u001b[0mnp\u001b[0m\u001b[0;34m.\u001b[0m\u001b[0masarray\u001b[0m\u001b[0;34m(\u001b[0m\u001b[0marray\u001b[0m\u001b[0;34m,\u001b[0m \u001b[0morder\u001b[0m\u001b[0;34m=\u001b[0m\u001b[0morder\u001b[0m\u001b[0;34m,\u001b[0m \u001b[0mdtype\u001b[0m\u001b[0;34m=\u001b[0m\u001b[0mdtype\u001b[0m\u001b[0;34m)\u001b[0m\u001b[0;34m\u001b[0m\u001b[0;34m\u001b[0m\u001b[0m\n\u001b[0m\u001b[1;32m    747\u001b[0m             \u001b[0;32mexcept\u001b[0m \u001b[0mComplexWarning\u001b[0m \u001b[0;32mas\u001b[0m \u001b[0mcomplex_warning\u001b[0m\u001b[0;34m:\u001b[0m\u001b[0;34m\u001b[0m\u001b[0;34m\u001b[0m\u001b[0m\n\u001b[1;32m    748\u001b[0m                 raise ValueError(\n",
            "\u001b[0;32m/usr/local/lib/python3.8/dist-packages/pandas/core/generic.py\u001b[0m in \u001b[0;36m__array__\u001b[0;34m(self, dtype)\u001b[0m\n\u001b[1;32m   1991\u001b[0m \u001b[0;34m\u001b[0m\u001b[0m\n\u001b[1;32m   1992\u001b[0m     \u001b[0;32mdef\u001b[0m \u001b[0m__array__\u001b[0m\u001b[0;34m(\u001b[0m\u001b[0mself\u001b[0m\u001b[0;34m,\u001b[0m \u001b[0mdtype\u001b[0m\u001b[0;34m:\u001b[0m \u001b[0mNpDtype\u001b[0m \u001b[0;34m|\u001b[0m \u001b[0;32mNone\u001b[0m \u001b[0;34m=\u001b[0m \u001b[0;32mNone\u001b[0m\u001b[0;34m)\u001b[0m \u001b[0;34m->\u001b[0m \u001b[0mnp\u001b[0m\u001b[0;34m.\u001b[0m\u001b[0mndarray\u001b[0m\u001b[0;34m:\u001b[0m\u001b[0;34m\u001b[0m\u001b[0;34m\u001b[0m\u001b[0m\n\u001b[0;32m-> 1993\u001b[0;31m         \u001b[0;32mreturn\u001b[0m \u001b[0mnp\u001b[0m\u001b[0;34m.\u001b[0m\u001b[0masarray\u001b[0m\u001b[0;34m(\u001b[0m\u001b[0mself\u001b[0m\u001b[0;34m.\u001b[0m\u001b[0m_values\u001b[0m\u001b[0;34m,\u001b[0m \u001b[0mdtype\u001b[0m\u001b[0;34m=\u001b[0m\u001b[0mdtype\u001b[0m\u001b[0;34m)\u001b[0m\u001b[0;34m\u001b[0m\u001b[0;34m\u001b[0m\u001b[0m\n\u001b[0m\u001b[1;32m   1994\u001b[0m \u001b[0;34m\u001b[0m\u001b[0m\n\u001b[1;32m   1995\u001b[0m     def __array_wrap__(\n",
            "\u001b[0;31mValueError\u001b[0m: could not convert string to float: 'address'"
          ]
        }
      ]
    }
  ]
}