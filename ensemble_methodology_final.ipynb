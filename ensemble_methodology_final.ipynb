{
  "nbformat": 4,
  "nbformat_minor": 0,
  "metadata": {
    "colab": {
      "provenance": [],
      "mount_file_id": "12q0zrfQdEEz8J3NaSr3O-fQOOt-f694o",
      "authorship_tag": "ABX9TyNTZNq5kKJrVEncdIh5vx4/",
      "include_colab_link": true
    },
    "kernelspec": {
      "name": "python3",
      "display_name": "Python 3"
    },
    "language_info": {
      "name": "python"
    }
  },
  "cells": [
    {
      "cell_type": "markdown",
      "metadata": {
        "id": "view-in-github",
        "colab_type": "text"
      },
      "source": [
        "<a href=\"https://colab.research.google.com/github/monirpust/cyber-attak-detection-using-ml-dl/blob/main/ensemble_methodology_final.ipynb\" target=\"_parent\"><img src=\"https://colab.research.google.com/assets/colab-badge.svg\" alt=\"Open In Colab\"/></a>"
      ]
    },
    {
      "cell_type": "markdown",
      "source": [
        "Anomaly detection using ML, DL, and Ensemble Methods for Gas Pipeline dataset "
      ],
      "metadata": {
        "id": "esHuEqiacvd5"
      }
    },
    {
      "cell_type": "markdown",
      "source": [
        "# Importing necessary libraries"
      ],
      "metadata": {
        "id": "Og1V5mejuw01"
      }
    },
    {
      "cell_type": "code",
      "source": [
        "import numpy as np \n",
        "import pandas as pd\n",
        "import seaborn as sn\n",
        "import matplotlib.pyplot as plt\n",
        "from sklearn.metrics import confusion_matrix, accuracy_score, classification_report, f1_score\n",
        "\n",
        "from sklearn.ensemble import IsolationForest\n",
        "from sklearn.model_selection import train_test_split\n"
      ],
      "metadata": {
        "id": "uqtqzrx1cylQ"
      },
      "execution_count": 2,
      "outputs": []
    },
    {
      "cell_type": "markdown",
      "source": [
        "# Importing Dataset"
      ],
      "metadata": {
        "id": "T5Y1SpUOQm5J"
      }
    },
    {
      "cell_type": "code",
      "source": [
        "names = ['address','function', 'length', 'setpoint', 'gain', 'reset rate', 'deadband', 'cycle time', 'rate', 'system mode', 'control scheme', 'pump', 'solenoid','pressure measurement','crc rate','command response','time','binary result','categorized result','specific result' ]\n",
        "df = pd.read_csv('/content/drive/MyDrive/dataset/GasPipeline(GP).csv',names=names,na_values='?',index_col=None);\n",
        "#df.drop(index=df.index[0], axis=0, inplace=True)\n",
        "df = df.iloc[1:]\n",
        "#df = data.dropna();"
      ],
      "metadata": {
        "colab": {
          "base_uri": "https://localhost:8080/"
        },
        "id": "ZXBZ7uX0QwhQ",
        "outputId": "99535f97-7876-4bef-a19b-a9a34f5207ff"
      },
      "execution_count": 3,
      "outputs": [
        {
          "output_type": "stream",
          "name": "stderr",
          "text": [
            "/usr/local/lib/python3.9/dist-packages/IPython/core/interactiveshell.py:3326: DtypeWarning: Columns (0,1,2,3,4,5,6,7,8,9,10,11,12,13,14,15,16,17,18,19) have mixed types.Specify dtype option on import or set low_memory=False.\n",
            "  exec(code_obj, self.user_global_ns, self.user_ns)\n"
          ]
        }
      ]
    },
    {
      "cell_type": "code",
      "source": [
        "df.head()"
      ],
      "metadata": {
        "id": "DqN3CD8Gv8sc",
        "colab": {
          "base_uri": "https://localhost:8080/",
          "height": 268
        },
        "outputId": "10cdf113-6e7c-4c07-e17d-97974030b653"
      },
      "execution_count": 90,
      "outputs": [
        {
          "output_type": "execute_result",
          "data": {
            "text/plain": [
              "  address function length setpoint gain reset rate deadband cycle time rate  \\\n",
              "1       4        3     16      NaN  NaN        NaN      NaN        NaN  NaN   \n",
              "2       4        3     46      NaN  NaN        NaN      NaN        NaN  NaN   \n",
              "3       4       16     90       10  115        0.2      0.5          1    0   \n",
              "4       4       16     16      NaN  NaN        NaN      NaN        NaN  NaN   \n",
              "5       4        3     16      NaN  NaN        NaN      NaN        NaN  NaN   \n",
              "\n",
              "  system mode control scheme pump solenoid pressure measurement crc rate  \\\n",
              "1         NaN            NaN  NaN      NaN                  NaN    12869   \n",
              "2         NaN            NaN  NaN      NaN             0.689655    12356   \n",
              "3           0              1    0        0                  NaN    17219   \n",
              "4         NaN            NaN  NaN      NaN                  NaN    17718   \n",
              "5         NaN            NaN  NaN      NaN                  NaN    12869   \n",
              "\n",
              "  command response        time binary result categorized result  \\\n",
              "1                1  1418682163             0                  0   \n",
              "2                0  1418682163             0                  0   \n",
              "3                1  1418682165             0                  0   \n",
              "4                0  1418682165             0                  0   \n",
              "5                1  1418682167             0                  0   \n",
              "\n",
              "  specific result  \n",
              "1               0  \n",
              "2               0  \n",
              "3               0  \n",
              "4               0  \n",
              "5               0  "
            ],
            "text/html": [
              "\n",
              "  <div id=\"df-c9c48c7b-3465-4b15-86ba-3328f00c6987\">\n",
              "    <div class=\"colab-df-container\">\n",
              "      <div>\n",
              "<style scoped>\n",
              "    .dataframe tbody tr th:only-of-type {\n",
              "        vertical-align: middle;\n",
              "    }\n",
              "\n",
              "    .dataframe tbody tr th {\n",
              "        vertical-align: top;\n",
              "    }\n",
              "\n",
              "    .dataframe thead th {\n",
              "        text-align: right;\n",
              "    }\n",
              "</style>\n",
              "<table border=\"1\" class=\"dataframe\">\n",
              "  <thead>\n",
              "    <tr style=\"text-align: right;\">\n",
              "      <th></th>\n",
              "      <th>address</th>\n",
              "      <th>function</th>\n",
              "      <th>length</th>\n",
              "      <th>setpoint</th>\n",
              "      <th>gain</th>\n",
              "      <th>reset rate</th>\n",
              "      <th>deadband</th>\n",
              "      <th>cycle time</th>\n",
              "      <th>rate</th>\n",
              "      <th>system mode</th>\n",
              "      <th>control scheme</th>\n",
              "      <th>pump</th>\n",
              "      <th>solenoid</th>\n",
              "      <th>pressure measurement</th>\n",
              "      <th>crc rate</th>\n",
              "      <th>command response</th>\n",
              "      <th>time</th>\n",
              "      <th>binary result</th>\n",
              "      <th>categorized result</th>\n",
              "      <th>specific result</th>\n",
              "    </tr>\n",
              "  </thead>\n",
              "  <tbody>\n",
              "    <tr>\n",
              "      <th>1</th>\n",
              "      <td>4</td>\n",
              "      <td>3</td>\n",
              "      <td>16</td>\n",
              "      <td>NaN</td>\n",
              "      <td>NaN</td>\n",
              "      <td>NaN</td>\n",
              "      <td>NaN</td>\n",
              "      <td>NaN</td>\n",
              "      <td>NaN</td>\n",
              "      <td>NaN</td>\n",
              "      <td>NaN</td>\n",
              "      <td>NaN</td>\n",
              "      <td>NaN</td>\n",
              "      <td>NaN</td>\n",
              "      <td>12869</td>\n",
              "      <td>1</td>\n",
              "      <td>1418682163</td>\n",
              "      <td>0</td>\n",
              "      <td>0</td>\n",
              "      <td>0</td>\n",
              "    </tr>\n",
              "    <tr>\n",
              "      <th>2</th>\n",
              "      <td>4</td>\n",
              "      <td>3</td>\n",
              "      <td>46</td>\n",
              "      <td>NaN</td>\n",
              "      <td>NaN</td>\n",
              "      <td>NaN</td>\n",
              "      <td>NaN</td>\n",
              "      <td>NaN</td>\n",
              "      <td>NaN</td>\n",
              "      <td>NaN</td>\n",
              "      <td>NaN</td>\n",
              "      <td>NaN</td>\n",
              "      <td>NaN</td>\n",
              "      <td>0.689655</td>\n",
              "      <td>12356</td>\n",
              "      <td>0</td>\n",
              "      <td>1418682163</td>\n",
              "      <td>0</td>\n",
              "      <td>0</td>\n",
              "      <td>0</td>\n",
              "    </tr>\n",
              "    <tr>\n",
              "      <th>3</th>\n",
              "      <td>4</td>\n",
              "      <td>16</td>\n",
              "      <td>90</td>\n",
              "      <td>10</td>\n",
              "      <td>115</td>\n",
              "      <td>0.2</td>\n",
              "      <td>0.5</td>\n",
              "      <td>1</td>\n",
              "      <td>0</td>\n",
              "      <td>0</td>\n",
              "      <td>1</td>\n",
              "      <td>0</td>\n",
              "      <td>0</td>\n",
              "      <td>NaN</td>\n",
              "      <td>17219</td>\n",
              "      <td>1</td>\n",
              "      <td>1418682165</td>\n",
              "      <td>0</td>\n",
              "      <td>0</td>\n",
              "      <td>0</td>\n",
              "    </tr>\n",
              "    <tr>\n",
              "      <th>4</th>\n",
              "      <td>4</td>\n",
              "      <td>16</td>\n",
              "      <td>16</td>\n",
              "      <td>NaN</td>\n",
              "      <td>NaN</td>\n",
              "      <td>NaN</td>\n",
              "      <td>NaN</td>\n",
              "      <td>NaN</td>\n",
              "      <td>NaN</td>\n",
              "      <td>NaN</td>\n",
              "      <td>NaN</td>\n",
              "      <td>NaN</td>\n",
              "      <td>NaN</td>\n",
              "      <td>NaN</td>\n",
              "      <td>17718</td>\n",
              "      <td>0</td>\n",
              "      <td>1418682165</td>\n",
              "      <td>0</td>\n",
              "      <td>0</td>\n",
              "      <td>0</td>\n",
              "    </tr>\n",
              "    <tr>\n",
              "      <th>5</th>\n",
              "      <td>4</td>\n",
              "      <td>3</td>\n",
              "      <td>16</td>\n",
              "      <td>NaN</td>\n",
              "      <td>NaN</td>\n",
              "      <td>NaN</td>\n",
              "      <td>NaN</td>\n",
              "      <td>NaN</td>\n",
              "      <td>NaN</td>\n",
              "      <td>NaN</td>\n",
              "      <td>NaN</td>\n",
              "      <td>NaN</td>\n",
              "      <td>NaN</td>\n",
              "      <td>NaN</td>\n",
              "      <td>12869</td>\n",
              "      <td>1</td>\n",
              "      <td>1418682167</td>\n",
              "      <td>0</td>\n",
              "      <td>0</td>\n",
              "      <td>0</td>\n",
              "    </tr>\n",
              "  </tbody>\n",
              "</table>\n",
              "</div>\n",
              "      <button class=\"colab-df-convert\" onclick=\"convertToInteractive('df-c9c48c7b-3465-4b15-86ba-3328f00c6987')\"\n",
              "              title=\"Convert this dataframe to an interactive table.\"\n",
              "              style=\"display:none;\">\n",
              "        \n",
              "  <svg xmlns=\"http://www.w3.org/2000/svg\" height=\"24px\"viewBox=\"0 0 24 24\"\n",
              "       width=\"24px\">\n",
              "    <path d=\"M0 0h24v24H0V0z\" fill=\"none\"/>\n",
              "    <path d=\"M18.56 5.44l.94 2.06.94-2.06 2.06-.94-2.06-.94-.94-2.06-.94 2.06-2.06.94zm-11 1L8.5 8.5l.94-2.06 2.06-.94-2.06-.94L8.5 2.5l-.94 2.06-2.06.94zm10 10l.94 2.06.94-2.06 2.06-.94-2.06-.94-.94-2.06-.94 2.06-2.06.94z\"/><path d=\"M17.41 7.96l-1.37-1.37c-.4-.4-.92-.59-1.43-.59-.52 0-1.04.2-1.43.59L10.3 9.45l-7.72 7.72c-.78.78-.78 2.05 0 2.83L4 21.41c.39.39.9.59 1.41.59.51 0 1.02-.2 1.41-.59l7.78-7.78 2.81-2.81c.8-.78.8-2.07 0-2.86zM5.41 20L4 18.59l7.72-7.72 1.47 1.35L5.41 20z\"/>\n",
              "  </svg>\n",
              "      </button>\n",
              "      \n",
              "  <style>\n",
              "    .colab-df-container {\n",
              "      display:flex;\n",
              "      flex-wrap:wrap;\n",
              "      gap: 12px;\n",
              "    }\n",
              "\n",
              "    .colab-df-convert {\n",
              "      background-color: #E8F0FE;\n",
              "      border: none;\n",
              "      border-radius: 50%;\n",
              "      cursor: pointer;\n",
              "      display: none;\n",
              "      fill: #1967D2;\n",
              "      height: 32px;\n",
              "      padding: 0 0 0 0;\n",
              "      width: 32px;\n",
              "    }\n",
              "\n",
              "    .colab-df-convert:hover {\n",
              "      background-color: #E2EBFA;\n",
              "      box-shadow: 0px 1px 2px rgba(60, 64, 67, 0.3), 0px 1px 3px 1px rgba(60, 64, 67, 0.15);\n",
              "      fill: #174EA6;\n",
              "    }\n",
              "\n",
              "    [theme=dark] .colab-df-convert {\n",
              "      background-color: #3B4455;\n",
              "      fill: #D2E3FC;\n",
              "    }\n",
              "\n",
              "    [theme=dark] .colab-df-convert:hover {\n",
              "      background-color: #434B5C;\n",
              "      box-shadow: 0px 1px 3px 1px rgba(0, 0, 0, 0.15);\n",
              "      filter: drop-shadow(0px 1px 2px rgba(0, 0, 0, 0.3));\n",
              "      fill: #FFFFFF;\n",
              "    }\n",
              "  </style>\n",
              "\n",
              "      <script>\n",
              "        const buttonEl =\n",
              "          document.querySelector('#df-c9c48c7b-3465-4b15-86ba-3328f00c6987 button.colab-df-convert');\n",
              "        buttonEl.style.display =\n",
              "          google.colab.kernel.accessAllowed ? 'block' : 'none';\n",
              "\n",
              "        async function convertToInteractive(key) {\n",
              "          const element = document.querySelector('#df-c9c48c7b-3465-4b15-86ba-3328f00c6987');\n",
              "          const dataTable =\n",
              "            await google.colab.kernel.invokeFunction('convertToInteractive',\n",
              "                                                     [key], {});\n",
              "          if (!dataTable) return;\n",
              "\n",
              "          const docLinkHtml = 'Like what you see? Visit the ' +\n",
              "            '<a target=\"_blank\" href=https://colab.research.google.com/notebooks/data_table.ipynb>data table notebook</a>'\n",
              "            + ' to learn more about interactive tables.';\n",
              "          element.innerHTML = '';\n",
              "          dataTable['output_type'] = 'display_data';\n",
              "          await google.colab.output.renderOutput(dataTable, element);\n",
              "          const docLink = document.createElement('div');\n",
              "          docLink.innerHTML = docLinkHtml;\n",
              "          element.appendChild(docLink);\n",
              "        }\n",
              "      </script>\n",
              "    </div>\n",
              "  </div>\n",
              "  "
            ]
          },
          "metadata": {},
          "execution_count": 90
        }
      ]
    },
    {
      "cell_type": "code",
      "source": [
        "df['command response'] = df['command response'].astype(np.int64)\n",
        "df['command response'].unique()"
      ],
      "metadata": {
        "colab": {
          "base_uri": "https://localhost:8080/"
        },
        "id": "KcDGJb2gtHho",
        "outputId": "ad0bdbfc-a494-4462-954f-61bc87b4be45"
      },
      "execution_count": 4,
      "outputs": [
        {
          "output_type": "execute_result",
          "data": {
            "text/plain": [
              "array([1, 0])"
            ]
          },
          "metadata": {},
          "execution_count": 4
        }
      ]
    },
    {
      "cell_type": "code",
      "source": [
        "df1=df.sort_values(by=['command response'])"
      ],
      "metadata": {
        "id": "Njr-zLs8mWkE"
      },
      "execution_count": 92,
      "outputs": []
    },
    {
      "cell_type": "markdown",
      "source": [
        "# Data Manipulation"
      ],
      "metadata": {
        "id": "AfaAfh6tW-dQ"
      }
    },
    {
      "cell_type": "code",
      "source": [
        "df1=df.sort_values(by=['command response'])\n",
        "cr_col=np.array(df1['command response'])\n",
        "indices=np.where(cr_col==1)\n",
        "splitter=indices[0][0]\n",
        "\n",
        "df_res,df_com=df1.head(splitter),df1.tail(len(df1)-splitter)\n",
        "#print (df_res.head(6))\n",
        "#print (splitter)\n",
        "df_temp=df_com[['address','function', 'length', 'setpoint', 'gain', 'reset rate', 'deadband', 'cycle time', 'rate', 'system mode', 'control scheme', 'pump', 'solenoid','crc rate','binary result','categorized result']].dropna()\n",
        "\n",
        "df_temp1=df_temp[['address','function', 'length', 'setpoint', 'gain', 'reset rate', 'deadband', 'cycle time', 'rate', 'system mode', 'control scheme', 'pump', 'solenoid','crc rate']]\n",
        "df_temp2=df_temp[['binary result','categorized result']]\n",
        "input_com=np.array(df_temp1)\n",
        "output_com=np.array(df_temp2)\n",
        "\n",
        "\n",
        "df_temp=df_res[['address','function', 'length', 'pressure measurement','crc rate','binary result','categorized result']].dropna(axis=0, how='any')\n",
        "#df_temp=df_temp.dropna(axis=0, how='any')\n",
        "\n",
        "df_temp1=df_temp[['address','function', 'length', 'pressure measurement','crc rate']]\n",
        "df_temp2=df_temp[['binary result','categorized result']]\n",
        "input_res=np.array(df_temp1)\n",
        "output_res=np.array(df_temp2)\n",
        "\n",
        "#print (df_temp)\n",
        "print (input_com.shape, output_com.shape, input_res.shape, output_res.shape)\n",
        "#df_temp.isnull()\n",
        "\n",
        "#input1=np.array(input)\n",
        "#output=df[['binary result','categorized result']]\n",
        "#print (input)"
      ],
      "metadata": {
        "id": "a2_3WqFEXB1g",
        "colab": {
          "base_uri": "https://localhost:8080/"
        },
        "outputId": "e5f182d1-42ab-434d-c882-649980aca2fe"
      },
      "execution_count": 5,
      "outputs": [
        {
          "output_type": "stream",
          "name": "stdout",
          "text": [
            "(64100, 14) (64100, 2) (68848, 5) (68848, 2)\n"
          ]
        }
      ]
    },
    {
      "cell_type": "markdown",
      "source": [
        "#Dividing Dataset"
      ],
      "metadata": {
        "id": "w0GGqAw4XHp4"
      }
    },
    {
      "cell_type": "code",
      "source": [
        "## Dividing the dataset for command type packets\n",
        "\n",
        "ntr1 = int(input_com.shape[0]/2)\n",
        "nts1 = input_com.shape[0]-ntr1\n",
        "Xtr1 = input_com[:ntr1,:]\n",
        "ytr1 = output_com[:ntr1,1]\n",
        "ytr1=ytr1.astype('int') # converting string to int\n",
        "Xts1 = input_com[:nts1,:]\n",
        "yts1 = output_com[:nts1,1]\n",
        "#yts1 = yts1.astype('int') # converting string to int\n",
        "print (Xtr1.shape,ytr1.shape)"
      ],
      "metadata": {
        "id": "u6UnyT33XMLD",
        "colab": {
          "base_uri": "https://localhost:8080/"
        },
        "outputId": "f7ac0efd-342d-45b9-a91d-ada50a0507c0"
      },
      "execution_count": 6,
      "outputs": [
        {
          "output_type": "stream",
          "name": "stdout",
          "text": [
            "(32050, 14) (32050,)\n"
          ]
        }
      ]
    },
    {
      "cell_type": "markdown",
      "source": [
        "# Applying Logistic Regression"
      ],
      "metadata": {
        "id": "8spkH_e1YFGW"
      }
    },
    {
      "cell_type": "code",
      "source": [
        "#Trying logistic regression\n",
        "from sklearn import linear_model\n",
        "logreg = linear_model.LogisticRegression()\n",
        "logreg.fit(Xtr1,ytr1)\n",
        "yhat = logreg.predict(Xts1)\n",
        "acc = np.mean(yhat == yts1)\n",
        "#print (input_com[0]==input_com[32051])\n",
        "print(\"Accuracy on training data =\", acc)\n",
        "Cs=np.logspace(5,10,5)\n",
        "acc_list=[]\n",
        "for C_element in Cs:\n",
        "    #print (C_element)\n",
        "    logreg = linear_model.LogisticRegression(C=C_element)\n",
        "    logreg.fit(Xtr1,ytr1)\n",
        "    yhat = logreg.predict(Xts1)\n",
        "    acc_list.append(np.mean(yhat == yts1))\n",
        "print (acc_list)\n",
        "print (acc)\n",
        "plt.plot(Cs,acc_list)\n",
        "plt.xlabel('C')\n",
        "plt.ylabel('Accuracy')\n",
        "plt.show()"
      ],
      "metadata": {
        "colab": {
          "base_uri": "https://localhost:8080/",
          "height": 1000
        },
        "id": "AJGvBmh2YKJy",
        "outputId": "f93cba93-ff2c-4d0e-9a0a-182cbf073a1a"
      },
      "execution_count": 103,
      "outputs": [
        {
          "output_type": "stream",
          "name": "stderr",
          "text": [
            "/usr/local/lib/python3.9/dist-packages/sklearn/linear_model/_logistic.py:458: ConvergenceWarning: lbfgs failed to converge (status=1):\n",
            "STOP: TOTAL NO. of ITERATIONS REACHED LIMIT.\n",
            "\n",
            "Increase the number of iterations (max_iter) or scale the data as shown in:\n",
            "    https://scikit-learn.org/stable/modules/preprocessing.html\n",
            "Please also refer to the documentation for alternative solver options:\n",
            "    https://scikit-learn.org/stable/modules/linear_model.html#logistic-regression\n",
            "  n_iter_i = _check_optimize_result(\n"
          ]
        },
        {
          "output_type": "stream",
          "name": "stdout",
          "text": [
            "Accuracy on training data = 0.8049921996879875\n"
          ]
        },
        {
          "output_type": "stream",
          "name": "stderr",
          "text": [
            "/usr/local/lib/python3.9/dist-packages/sklearn/linear_model/_logistic.py:458: ConvergenceWarning: lbfgs failed to converge (status=1):\n",
            "STOP: TOTAL NO. of ITERATIONS REACHED LIMIT.\n",
            "\n",
            "Increase the number of iterations (max_iter) or scale the data as shown in:\n",
            "    https://scikit-learn.org/stable/modules/preprocessing.html\n",
            "Please also refer to the documentation for alternative solver options:\n",
            "    https://scikit-learn.org/stable/modules/linear_model.html#logistic-regression\n",
            "  n_iter_i = _check_optimize_result(\n",
            "/usr/local/lib/python3.9/dist-packages/sklearn/linear_model/_logistic.py:458: ConvergenceWarning: lbfgs failed to converge (status=1):\n",
            "STOP: TOTAL NO. of ITERATIONS REACHED LIMIT.\n",
            "\n",
            "Increase the number of iterations (max_iter) or scale the data as shown in:\n",
            "    https://scikit-learn.org/stable/modules/preprocessing.html\n",
            "Please also refer to the documentation for alternative solver options:\n",
            "    https://scikit-learn.org/stable/modules/linear_model.html#logistic-regression\n",
            "  n_iter_i = _check_optimize_result(\n",
            "/usr/local/lib/python3.9/dist-packages/sklearn/linear_model/_logistic.py:458: ConvergenceWarning: lbfgs failed to converge (status=1):\n",
            "STOP: TOTAL NO. of ITERATIONS REACHED LIMIT.\n",
            "\n",
            "Increase the number of iterations (max_iter) or scale the data as shown in:\n",
            "    https://scikit-learn.org/stable/modules/preprocessing.html\n",
            "Please also refer to the documentation for alternative solver options:\n",
            "    https://scikit-learn.org/stable/modules/linear_model.html#logistic-regression\n",
            "  n_iter_i = _check_optimize_result(\n",
            "/usr/local/lib/python3.9/dist-packages/sklearn/linear_model/_logistic.py:458: ConvergenceWarning: lbfgs failed to converge (status=1):\n",
            "STOP: TOTAL NO. of ITERATIONS REACHED LIMIT.\n",
            "\n",
            "Increase the number of iterations (max_iter) or scale the data as shown in:\n",
            "    https://scikit-learn.org/stable/modules/preprocessing.html\n",
            "Please also refer to the documentation for alternative solver options:\n",
            "    https://scikit-learn.org/stable/modules/linear_model.html#logistic-regression\n",
            "  n_iter_i = _check_optimize_result(\n",
            "/usr/local/lib/python3.9/dist-packages/sklearn/linear_model/_logistic.py:458: ConvergenceWarning: lbfgs failed to converge (status=1):\n",
            "STOP: TOTAL NO. of ITERATIONS REACHED LIMIT.\n",
            "\n",
            "Increase the number of iterations (max_iter) or scale the data as shown in:\n",
            "    https://scikit-learn.org/stable/modules/preprocessing.html\n",
            "Please also refer to the documentation for alternative solver options:\n",
            "    https://scikit-learn.org/stable/modules/linear_model.html#logistic-regression\n",
            "  n_iter_i = _check_optimize_result(\n"
          ]
        },
        {
          "output_type": "stream",
          "name": "stdout",
          "text": [
            "[0.8049297971918877, 0.8049297971918877, 0.8049297971918877, 0.8049297971918877, 0.8049297971918877]\n",
            "0.8049921996879875\n"
          ]
        },
        {
          "output_type": "display_data",
          "data": {
            "text/plain": [
              "<Figure size 432x288 with 1 Axes>"
            ],
            "image/png": "[encoded data removed]"
          },
          "metadata": {
            "needs_background": "light"
          }
        }
      ]
    },
    {
      "cell_type": "markdown",
      "source": [
        "# Applying SVC from SVM"
      ],
      "metadata": {
        "id": "WsuRK5f0YaD_"
      }
    },
    {
      "cell_type": "code",
      "source": [
        "from sklearn import svm\n",
        "\n",
        "# Create a classifier: a support vector classifier\n",
        "svc = svm.SVC(probability=False, C=5, gamma=.09,verbose=10)\n",
        "svc.fit(Xtr1,ytr1)"
      ],
      "metadata": {
        "colab": {
          "base_uri": "https://localhost:8080/",
          "height": 93
        },
        "id": "R7iJwBqDYk1v",
        "outputId": "5f783579-faca-47ff-ac83-a2e316b4059a"
      },
      "execution_count": 96,
      "outputs": [
        {
          "output_type": "stream",
          "name": "stdout",
          "text": [
            "[LibSVM]"
          ]
        },
        {
          "output_type": "execute_result",
          "data": {
            "text/plain": [
              "SVC(C=5, gamma=0.09, verbose=10)"
            ],
            "text/html": [
              "<style>#sk-container-id-2 {color: black;background-color: white;}#sk-container-id-2 pre{padding: 0;}#sk-container-id-2 div.sk-toggleable {background-color: white;}#sk-container-id-2 label.sk-toggleable__label {cursor: pointer;display: block;width: 100%;margin-bottom: 0;padding: 0.3em;box-sizing: border-box;text-align: center;}#sk-container-id-2 label.sk-toggleable__label-arrow:before {content: \"▸\";float: left;margin-right: 0.25em;color: #696969;}#sk-container-id-2 label.sk-toggleable__label-arrow:hover:before {color: black;}#sk-container-id-2 div.sk-estimator:hover label.sk-toggleable__label-arrow:before {color: black;}#sk-container-id-2 div.sk-toggleable__content {max-height: 0;max-width: 0;overflow: hidden;text-align: left;background-color: #f0f8ff;}#sk-container-id-2 div.sk-toggleable__content pre {margin: 0.2em;color: black;border-radius: 0.25em;background-color: #f0f8ff;}#sk-container-id-2 input.sk-toggleable__control:checked~div.sk-toggleable__content {max-height: 200px;max-width: 100%;overflow: auto;}#sk-container-id-2 input.sk-toggleable__control:checked~label.sk-toggleable__label-arrow:before {content: \"▾\";}#sk-container-id-2 div.sk-estimator input.sk-toggleable__control:checked~label.sk-toggleable__label {background-color: #d4ebff;}#sk-container-id-2 div.sk-label input.sk-toggleable__control:checked~label.sk-toggleable__label {background-color: #d4ebff;}#sk-container-id-2 input.sk-hidden--visually {border: 0;clip: rect(1px 1px 1px 1px);clip: rect(1px, 1px, 1px, 1px);height: 1px;margin: -1px;overflow: hidden;padding: 0;position: absolute;width: 1px;}#sk-container-id-2 div.sk-estimator {font-family: monospace;background-color: #f0f8ff;border: 1px dotted black;border-radius: 0.25em;box-sizing: border-box;margin-bottom: 0.5em;}#sk-container-id-2 div.sk-estimator:hover {background-color: #d4ebff;}#sk-container-id-2 div.sk-parallel-item::after {content: \"\";width: 100%;border-bottom: 1px solid gray;flex-grow: 1;}#sk-container-id-2 div.sk-label:hover label.sk-toggleable__label {background-color: #d4ebff;}#sk-container-id-2 div.sk-serial::before {content: \"\";position: absolute;border-left: 1px solid gray;box-sizing: border-box;top: 0;bottom: 0;left: 50%;z-index: 0;}#sk-container-id-2 div.sk-serial {display: flex;flex-direction: column;align-items: center;background-color: white;padding-right: 0.2em;padding-left: 0.2em;position: relative;}#sk-container-id-2 div.sk-item {position: relative;z-index: 1;}#sk-container-id-2 div.sk-parallel {display: flex;align-items: stretch;justify-content: center;background-color: white;position: relative;}#sk-container-id-2 div.sk-item::before, #sk-container-id-2 div.sk-parallel-item::before {content: \"\";position: absolute;border-left: 1px solid gray;box-sizing: border-box;top: 0;bottom: 0;left: 50%;z-index: -1;}#sk-container-id-2 div.sk-parallel-item {display: flex;flex-direction: column;z-index: 1;position: relative;background-color: white;}#sk-container-id-2 div.sk-parallel-item:first-child::after {align-self: flex-end;width: 50%;}#sk-container-id-2 div.sk-parallel-item:last-child::after {align-self: flex-start;width: 50%;}#sk-container-id-2 div.sk-parallel-item:only-child::after {width: 0;}#sk-container-id-2 div.sk-dashed-wrapped {border: 1px dashed gray;margin: 0 0.4em 0.5em 0.4em;box-sizing: border-box;padding-bottom: 0.4em;background-color: white;}#sk-container-id-2 div.sk-label label {font-family: monospace;font-weight: bold;display: inline-block;line-height: 1.2em;}#sk-container-id-2 div.sk-label-container {text-align: center;}#sk-container-id-2 div.sk-container {/* jupyter's `normalize.less` sets `[hidden] { display: none; }` but bootstrap.min.css set `[hidden] { display: none !important; }` so we also need the `!important` here to be able to override the default hidden behavior on the sphinx rendered scikit-learn.org. See: https://github.com/scikit-learn/scikit-learn/issues/21755 */display: inline-block !important;position: relative;}#sk-container-id-2 div.sk-text-repr-fallback {display: none;}</style><div id=\"sk-container-id-2\" class=\"sk-top-container\"><div class=\"sk-text-repr-fallback\"><pre>SVC(C=5, gamma=0.09, verbose=10)</pre><b>In a Jupyter environment, please rerun this cell to show the HTML representation or trust the notebook. <br />On GitHub, the HTML representation is unable to render, please try loading this page with nbviewer.org.</b></div><div class=\"sk-container\" hidden><div class=\"sk-item\"><div class=\"sk-estimator sk-toggleable\"><input class=\"sk-toggleable__control sk-hidden--visually\" id=\"sk-estimator-id-2\" type=\"checkbox\" checked><label for=\"sk-estimator-id-2\" class=\"sk-toggleable__label sk-toggleable__label-arrow\">SVC</label><div class=\"sk-toggleable__content\"><pre>SVC(C=5, gamma=0.09, verbose=10)</pre></div></div></div></div></div>"
            ]
          },
          "metadata": {},
          "execution_count": 96
        }
      ]
    },
    {
      "cell_type": "markdown",
      "source": [
        "Evaluating result of SVC"
      ],
      "metadata": {
        "id": "cfDifaonYu03"
      }
    },
    {
      "cell_type": "code",
      "source": [
        "yhat_ts = svc.predict(Xts1)\n",
        "acc = np.mean(yhat_ts == yts1)\n",
        "print('Accuaracy = {0:f}'.format(acc))"
      ],
      "metadata": {
        "colab": {
          "base_uri": "https://localhost:8080/"
        },
        "id": "VYYEJ5ieYzjm",
        "outputId": "762e4fe2-a267-4064-f430-ca62004d024c"
      },
      "execution_count": 97,
      "outputs": [
        {
          "output_type": "stream",
          "name": "stdout",
          "text": [
            "Accuaracy = 0.988736\n"
          ]
        }
      ]
    },
    {
      "cell_type": "markdown",
      "source": [
        "# Applying Decision Tree Classifier"
      ],
      "metadata": {
        "id": "tjZC-7RKZluX"
      }
    },
    {
      "cell_type": "code",
      "source": [
        "from sklearn.tree import DecisionTreeClassifier\n",
        "\n",
        "# Create Decision Tree classifer object\n",
        "dt_clf = DecisionTreeClassifier()\n",
        "\n",
        "# Train Decision Tree Classifer\n",
        "dt_clf = dt_clf.fit(Xtr1,ytr1)\n",
        "\n",
        "#Predict the response for test dataset\n",
        "y_pred = dt_clf.predict(Xts1)\n",
        "acc = np.mean(y_pred == yts1)\n",
        "print('Accuaracy = {0:f}'.format(acc))"
      ],
      "metadata": {
        "colab": {
          "base_uri": "https://localhost:8080/"
        },
        "id": "bKZYHY7XeFgw",
        "outputId": "aa019fee-09dc-464b-b6cb-4fb98f8a6e87"
      },
      "execution_count": 98,
      "outputs": [
        {
          "output_type": "stream",
          "name": "stdout",
          "text": [
            "Accuaracy = 0.991264\n"
          ]
        }
      ]
    },
    {
      "cell_type": "markdown",
      "source": [
        "# Appying KNN algorithm"
      ],
      "metadata": {
        "id": "r7z4rzXygALA"
      }
    },
    {
      "cell_type": "code",
      "source": [
        "from sklearn.neighbors import KNeighborsClassifier\n",
        "classifier = KNeighborsClassifier(n_neighbors = 5, metric = 'minkowski', p = 2)\n",
        "classifier.fit(Xtr1, ytr1)\n",
        "\n",
        "#Predict the response for test dataset\n",
        "y_pred = classifier.predict(Xts1)\n",
        "acc = np.mean(y_pred == yts1)\n",
        "print('Accuaracy = {0:f}'.format(acc))"
      ],
      "metadata": {
        "colab": {
          "base_uri": "https://localhost:8080/"
        },
        "id": "MoBxIQkJslu4",
        "outputId": "4e5787a5-9ef8-4401-fc37-43ac3e31c83f"
      },
      "execution_count": 108,
      "outputs": [
        {
          "output_type": "stream",
          "name": "stdout",
          "text": [
            "Accuaracy = 0.944992\n"
          ]
        }
      ]
    },
    {
      "cell_type": "markdown",
      "source": [
        "# Applying Gaussian Naive Bayes"
      ],
      "metadata": {
        "id": "XW_qq5LQxhVB"
      }
    },
    {
      "cell_type": "code",
      "source": [
        "from sklearn.naive_bayes import GaussianNB\n",
        "\n",
        "# Build a Gaussian Classifier\n",
        "naive_bayes = GaussianNB()\n",
        "\n",
        "# Model training\n",
        "naive_bayes.fit(Xtr1, ytr1)\n",
        "\n",
        "# Model evaluation\n",
        "y_pred = naive_bayes.predict(Xts1)\n",
        "yts1 = yts1.astype('int') # converting string to int\n",
        "accuray = accuracy_score(y_pred,yts1)\n",
        "f1 = f1_score(y_pred, yts1, average=\"weighted\")\n",
        "\n",
        "print(\"Accuracy:\", accuray)\n",
        "print(\"F1 Score:\", f1)"
      ],
      "metadata": {
        "colab": {
          "base_uri": "https://localhost:8080/"
        },
        "id": "uO7oI3w4xpHn",
        "outputId": "72792e8d-0f47-4256-8c1c-08b02507d304"
      },
      "execution_count": 9,
      "outputs": [
        {
          "output_type": "stream",
          "name": "stdout",
          "text": [
            "Accuracy: 0.8572230889235569\n",
            "F1 Score: 0.8930548689505835\n"
          ]
        }
      ]
    },
    {
      "cell_type": "markdown",
      "source": [
        "# Applying Local Outlier Factor (LOF)"
      ],
      "metadata": {
        "id": "V-SFZ3zGv0fO"
      }
    },
    {
      "cell_type": "code",
      "source": [
        "from sklearn.neighbors import LocalOutlierFactor\n",
        "lof = LocalOutlierFactor(n_neighbors=20, contamination=.03)\n",
        "lof.fit(Xtr1, ytr1)\n",
        "\n",
        "#Predict the response for test dataset\n",
        "y_pred = lof.predict(Xts1)\n",
        "acc = np.mean(y_pred == yts1)\n",
        "print('Accuaracy = {0:f}'.format(acc))"
      ],
      "metadata": {
        "id": "J7O-GpHmv5_i"
      },
      "execution_count": null,
      "outputs": []
    },
    {
      "cell_type": "code",
      "source": [
        "#split the data into training and test sets\n",
        "X_train, X_test, y_train, y_test = train_test_split(data, data['binary result'], test_size = 0.2, random_state=0)\n",
        "\n",
        "# Fit the Isolation Forest model on the training data\n",
        "model = IsolationForest(random_state=0)\n",
        "model.fit(X_train)\n",
        "\n",
        "# Use the model to predict on the test data\n",
        "y_pred = model.predict(X_test)\n",
        "\n",
        "# Check the accuracy of the model on the test data\n",
        "print(\"Accuracy:\", np.mean(y_pred == y_test))\n",
        "\n",
        "names = ['address','function', 'length', 'setpoint', 'gain', 'reset rate', 'deadband', 'cycle time', 'rate', 'system mode', 'control scheme', 'pump', 'solenoid','pressure measurement','crc rate','command response','time','binary result','categorized result','specific result' ]\n",
        "df = pd.read_csv('C:/Users/userlocal/Desktop/PhD/Courses/Machine_Learning/IntrusionDetection/Datasets/gas_pipeline.csv',names=names,na_values='?',index_col=None)\n",
        "#df = df.dropna()\n",
        "#data=np.array(df)\n",
        "\n",
        "\n",
        "print (df.head(6))\n"
      ],
      "metadata": {
        "colab": {
          "base_uri": "https://localhost:8080/",
          "height": 242
        },
        "id": "F7RJ7sNsMcVt",
        "outputId": "fbfa0cfb-b498-4328-8d7e-319ae16b268c"
      },
      "execution_count": 100,
      "outputs": [
        {
          "output_type": "error",
          "ename": "NameError",
          "evalue": "ignored",
          "traceback": [
            "\u001b[0;31m---------------------------------------------------------------------------\u001b[0m",
            "\u001b[0;31mNameError\u001b[0m                                 Traceback (most recent call last)",
            "\u001b[0;32m<ipython-input-100-1a904dff7830>\u001b[0m in \u001b[0;36m<module>\u001b[0;34m\u001b[0m\n\u001b[1;32m      1\u001b[0m \u001b[0;31m#split the data into training and test sets\u001b[0m\u001b[0;34m\u001b[0m\u001b[0;34m\u001b[0m\u001b[0m\n\u001b[0;32m----> 2\u001b[0;31m \u001b[0mX_train\u001b[0m\u001b[0;34m,\u001b[0m \u001b[0mX_test\u001b[0m\u001b[0;34m,\u001b[0m \u001b[0my_train\u001b[0m\u001b[0;34m,\u001b[0m \u001b[0my_test\u001b[0m \u001b[0;34m=\u001b[0m \u001b[0mtrain_test_split\u001b[0m\u001b[0;34m(\u001b[0m\u001b[0mdata\u001b[0m\u001b[0;34m,\u001b[0m \u001b[0mdata\u001b[0m\u001b[0;34m[\u001b[0m\u001b[0;34m'binary result'\u001b[0m\u001b[0;34m]\u001b[0m\u001b[0;34m,\u001b[0m \u001b[0mtest_size\u001b[0m \u001b[0;34m=\u001b[0m \u001b[0;36m0.2\u001b[0m\u001b[0;34m,\u001b[0m \u001b[0mrandom_state\u001b[0m\u001b[0;34m=\u001b[0m\u001b[0;36m0\u001b[0m\u001b[0;34m)\u001b[0m\u001b[0;34m\u001b[0m\u001b[0;34m\u001b[0m\u001b[0m\n\u001b[0m\u001b[1;32m      3\u001b[0m \u001b[0;34m\u001b[0m\u001b[0m\n\u001b[1;32m      4\u001b[0m \u001b[0;31m# Fit the Isolation Forest model on the training data\u001b[0m\u001b[0;34m\u001b[0m\u001b[0;34m\u001b[0m\u001b[0m\n\u001b[1;32m      5\u001b[0m \u001b[0mmodel\u001b[0m \u001b[0;34m=\u001b[0m \u001b[0mIsolationForest\u001b[0m\u001b[0;34m(\u001b[0m\u001b[0mrandom_state\u001b[0m\u001b[0;34m=\u001b[0m\u001b[0;36m0\u001b[0m\u001b[0;34m)\u001b[0m\u001b[0;34m\u001b[0m\u001b[0;34m\u001b[0m\u001b[0m\n",
            "\u001b[0;31mNameError\u001b[0m: name 'data' is not defined"
          ]
        }
      ]
    }
  ]
}